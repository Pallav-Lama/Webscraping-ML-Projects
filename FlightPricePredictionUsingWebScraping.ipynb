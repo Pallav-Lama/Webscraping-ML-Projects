{
 "cells": [
  {
   "cell_type": "code",
   "execution_count": 1,
   "id": "644ae596",
   "metadata": {},
   "outputs": [],
   "source": [
    "import pandas as pd\n",
    "import numpy as np\n",
    "from bs4 import BeautifulSoup\n",
    "import matplotlib.pyplot as plt\n",
    "import seaborn as sns\n",
    "import requests"
   ]
  },
  {
   "cell_type": "code",
   "execution_count": 2,
   "id": "638e78dd",
   "metadata": {},
   "outputs": [],
   "source": [
    "url = \"https://www.sastotickets.com/search/flight-tickets-from-Kathmandu-to-Pokhara-Jan-22-2023/2e7458dc-b562-4c52-8f56-d36b035ae0ad\""
   ]
  },
  {
   "cell_type": "code",
   "execution_count": 3,
   "id": "3b364c1f",
   "metadata": {},
   "outputs": [],
   "source": [
    "html = requests.get(url).content"
   ]
  },
  {
   "cell_type": "code",
   "execution_count": 4,
   "id": "a2490e03",
   "metadata": {},
   "outputs": [],
   "source": [
    "#html"
   ]
  },
  {
   "cell_type": "code",
   "execution_count": 5,
   "id": "d3af50cd",
   "metadata": {},
   "outputs": [],
   "source": [
    "soup = BeautifulSoup(html, \"html.parser\")"
   ]
  },
  {
   "cell_type": "code",
   "execution_count": 6,
   "id": "58719c98",
   "metadata": {},
   "outputs": [],
   "source": [
    "#soup"
   ]
  },
  {
   "cell_type": "code",
   "execution_count": 7,
   "id": "614cbdd8",
   "metadata": {},
   "outputs": [],
   "source": [
    "form = soup.find_all(\"form\")"
   ]
  },
  {
   "cell_type": "code",
   "execution_count": 8,
   "id": "19e59a13",
   "metadata": {},
   "outputs": [],
   "source": [
    "#form"
   ]
  },
  {
   "cell_type": "code",
   "execution_count": 9,
   "id": "0290dd15",
   "metadata": {},
   "outputs": [],
   "source": [
    "all_datapoints = list()\n",
    "for datapoints in form:\n",
    "    data = []\n",
    "    for element in datapoints:\n",
    "        data.append(element.text)\n",
    "    all_datapoints.append(data)"
   ]
  },
  {
   "cell_type": "code",
   "execution_count": 10,
   "id": "9d7c5b85",
   "metadata": {},
   "outputs": [],
   "source": [
    "# all_datapoints"
   ]
  },
  {
   "cell_type": "code",
   "execution_count": 11,
   "id": "299c8870",
   "metadata": {},
   "outputs": [],
   "source": [
    "# soup"
   ]
  },
  {
   "cell_type": "code",
   "execution_count": 12,
   "id": "722b7369",
   "metadata": {},
   "outputs": [],
   "source": [
    "paragraph = soup.find_all(\"p\")"
   ]
  },
  {
   "cell_type": "code",
   "execution_count": 13,
   "id": "19946804",
   "metadata": {},
   "outputs": [],
   "source": [
    "lis = []\n",
    "for element in paragraph:\n",
    "    lis.append(element.text.strip())"
   ]
  },
  {
   "cell_type": "code",
   "execution_count": 14,
   "id": "81d09df1",
   "metadata": {},
   "outputs": [],
   "source": [
    "new_lis = lis[30:]"
   ]
  },
  {
   "cell_type": "code",
   "execution_count": 15,
   "id": "79b55d0e",
   "metadata": {},
   "outputs": [],
   "source": [
    "# new_lis"
   ]
  },
  {
   "cell_type": "code",
   "execution_count": 16,
   "id": "e26f25e0",
   "metadata": {},
   "outputs": [],
   "source": [
    "def flight_details(all_details):\n",
    "    i = 0\n",
    "    x = 16\n",
    "    flights = []\n",
    "    for index in range(len(all_details)):\n",
    "        flight = []\n",
    "        x += 16 \n",
    "        while i<x:\n",
    "            try: \n",
    "                flight.append(all_details[i])\n",
    "                i += 1\n",
    "            except:\n",
    "                return flights\n",
    "        flights.append(flight)\n",
    "        "
   ]
  },
  {
   "cell_type": "code",
   "execution_count": 17,
   "id": "5026ee9e",
   "metadata": {},
   "outputs": [],
   "source": [
    "all_flight_details = list(flight_details(new_lis))"
   ]
  },
  {
   "cell_type": "code",
   "execution_count": 18,
   "id": "8e7b9da9",
   "metadata": {},
   "outputs": [
    {
     "data": {
      "text/plain": [
       "113"
      ]
     },
     "execution_count": 18,
     "metadata": {},
     "output_type": "execute_result"
    }
   ],
   "source": [
    "len(all_flight_details)"
   ]
  },
  {
   "cell_type": "code",
   "execution_count": 19,
   "id": "2de981d7",
   "metadata": {},
   "outputs": [],
   "source": [
    "df = pd.DataFrame(all_flight_details)"
   ]
  },
  {
   "cell_type": "code",
   "execution_count": 20,
   "id": "a9bd48b6",
   "metadata": {},
   "outputs": [
    {
     "data": {
      "text/html": [
       "<div>\n",
       "<style scoped>\n",
       "    .dataframe tbody tr th:only-of-type {\n",
       "        vertical-align: middle;\n",
       "    }\n",
       "\n",
       "    .dataframe tbody tr th {\n",
       "        vertical-align: top;\n",
       "    }\n",
       "\n",
       "    .dataframe thead th {\n",
       "        text-align: right;\n",
       "    }\n",
       "</style>\n",
       "<table border=\"1\" class=\"dataframe\">\n",
       "  <thead>\n",
       "    <tr style=\"text-align: right;\">\n",
       "      <th></th>\n",
       "      <th>0</th>\n",
       "      <th>1</th>\n",
       "      <th>2</th>\n",
       "      <th>3</th>\n",
       "      <th>4</th>\n",
       "      <th>5</th>\n",
       "      <th>6</th>\n",
       "      <th>7</th>\n",
       "      <th>8</th>\n",
       "      <th>9</th>\n",
       "      <th>...</th>\n",
       "      <th>22</th>\n",
       "      <th>23</th>\n",
       "      <th>24</th>\n",
       "      <th>25</th>\n",
       "      <th>26</th>\n",
       "      <th>27</th>\n",
       "      <th>28</th>\n",
       "      <th>29</th>\n",
       "      <th>30</th>\n",
       "      <th>31</th>\n",
       "    </tr>\n",
       "  </thead>\n",
       "  <tbody>\n",
       "    <tr>\n",
       "      <th>0</th>\n",
       "      <td>Guna Airlines</td>\n",
       "      <td>Ticket PriceNPR 3,350</td>\n",
       "      <td>Kathmandu (KTM)</td>\n",
       "      <td>13:35</td>\n",
       "      <td>Sun, Jan 22, 2023</td>\n",
       "      <td>Pokhara (PKR)</td>\n",
       "      <td>13:58</td>\n",
       "      <td>Sun, Jan 22, 2023</td>\n",
       "      <td>00 Hr 23 Min</td>\n",
       "      <td>5 Kg\\n                                        ...</td>\n",
       "      <td>...</td>\n",
       "      <td>13:40</td>\n",
       "      <td>Sun, Jan 22, 2023</td>\n",
       "      <td>00 Hr 20 Min</td>\n",
       "      <td>5 Kg\\n                                        ...</td>\n",
       "      <td>NPR 3,595</td>\n",
       "      <td>Non Refundable</td>\n",
       "      <td>flight details</td>\n",
       "      <td>Kathmandu(KTM)\\n                              ...</td>\n",
       "      <td>Saurya Airlines\\n                             ...</td>\n",
       "      <td>00 Hr 20 Min</td>\n",
       "    </tr>\n",
       "    <tr>\n",
       "      <th>1</th>\n",
       "      <td>Buddha Air</td>\n",
       "      <td>Ticket PriceNPR 3,650</td>\n",
       "      <td>Kathmandu (KTM)</td>\n",
       "      <td>07:00</td>\n",
       "      <td>Sun, Jan 22, 2023</td>\n",
       "      <td>Pokhara (PKR)</td>\n",
       "      <td>07:25</td>\n",
       "      <td>Sun, Jan 22, 2023</td>\n",
       "      <td>00 Hr 25 Min</td>\n",
       "      <td>5 Kg\\n                                        ...</td>\n",
       "      <td>...</td>\n",
       "      <td>None</td>\n",
       "      <td>None</td>\n",
       "      <td>None</td>\n",
       "      <td>None</td>\n",
       "      <td>None</td>\n",
       "      <td>None</td>\n",
       "      <td>None</td>\n",
       "      <td>None</td>\n",
       "      <td>None</td>\n",
       "      <td>None</td>\n",
       "    </tr>\n",
       "    <tr>\n",
       "      <th>2</th>\n",
       "      <td>Buddha Air</td>\n",
       "      <td>Ticket PriceNPR 3,650</td>\n",
       "      <td>Kathmandu (KTM)</td>\n",
       "      <td>07:55</td>\n",
       "      <td>Sun, Jan 22, 2023</td>\n",
       "      <td>Pokhara (PKR)</td>\n",
       "      <td>08:20</td>\n",
       "      <td>Sun, Jan 22, 2023</td>\n",
       "      <td>00 Hr 25 Min</td>\n",
       "      <td>5 Kg\\n                                        ...</td>\n",
       "      <td>...</td>\n",
       "      <td>None</td>\n",
       "      <td>None</td>\n",
       "      <td>None</td>\n",
       "      <td>None</td>\n",
       "      <td>None</td>\n",
       "      <td>None</td>\n",
       "      <td>None</td>\n",
       "      <td>None</td>\n",
       "      <td>None</td>\n",
       "      <td>None</td>\n",
       "    </tr>\n",
       "    <tr>\n",
       "      <th>3</th>\n",
       "      <td>Buddha Air</td>\n",
       "      <td>Ticket PriceNPR 3,650</td>\n",
       "      <td>Kathmandu (KTM)</td>\n",
       "      <td>08:40</td>\n",
       "      <td>Sun, Jan 22, 2023</td>\n",
       "      <td>Pokhara (PKR)</td>\n",
       "      <td>09:05</td>\n",
       "      <td>Sun, Jan 22, 2023</td>\n",
       "      <td>00 Hr 25 Min</td>\n",
       "      <td>5 Kg\\n                                        ...</td>\n",
       "      <td>...</td>\n",
       "      <td>None</td>\n",
       "      <td>None</td>\n",
       "      <td>None</td>\n",
       "      <td>None</td>\n",
       "      <td>None</td>\n",
       "      <td>None</td>\n",
       "      <td>None</td>\n",
       "      <td>None</td>\n",
       "      <td>None</td>\n",
       "      <td>None</td>\n",
       "    </tr>\n",
       "    <tr>\n",
       "      <th>4</th>\n",
       "      <td>Buddha Air</td>\n",
       "      <td>Ticket PriceNPR 3,650</td>\n",
       "      <td>Kathmandu (KTM)</td>\n",
       "      <td>09:45</td>\n",
       "      <td>Sun, Jan 22, 2023</td>\n",
       "      <td>Pokhara (PKR)</td>\n",
       "      <td>10:10</td>\n",
       "      <td>Sun, Jan 22, 2023</td>\n",
       "      <td>00 Hr 25 Min</td>\n",
       "      <td>5 Kg\\n                                        ...</td>\n",
       "      <td>...</td>\n",
       "      <td>None</td>\n",
       "      <td>None</td>\n",
       "      <td>None</td>\n",
       "      <td>None</td>\n",
       "      <td>None</td>\n",
       "      <td>None</td>\n",
       "      <td>None</td>\n",
       "      <td>None</td>\n",
       "      <td>None</td>\n",
       "      <td>None</td>\n",
       "    </tr>\n",
       "  </tbody>\n",
       "</table>\n",
       "<p>5 rows × 32 columns</p>\n",
       "</div>"
      ],
      "text/plain": [
       "              0                      1                2      3   \\\n",
       "0  Guna Airlines  Ticket PriceNPR 3,350  Kathmandu (KTM)  13:35   \n",
       "1     Buddha Air  Ticket PriceNPR 3,650  Kathmandu (KTM)  07:00   \n",
       "2     Buddha Air  Ticket PriceNPR 3,650  Kathmandu (KTM)  07:55   \n",
       "3     Buddha Air  Ticket PriceNPR 3,650  Kathmandu (KTM)  08:40   \n",
       "4     Buddha Air  Ticket PriceNPR 3,650  Kathmandu (KTM)  09:45   \n",
       "\n",
       "                  4              5      6                  7             8   \\\n",
       "0  Sun, Jan 22, 2023  Pokhara (PKR)  13:58  Sun, Jan 22, 2023  00 Hr 23 Min   \n",
       "1  Sun, Jan 22, 2023  Pokhara (PKR)  07:25  Sun, Jan 22, 2023  00 Hr 25 Min   \n",
       "2  Sun, Jan 22, 2023  Pokhara (PKR)  08:20  Sun, Jan 22, 2023  00 Hr 25 Min   \n",
       "3  Sun, Jan 22, 2023  Pokhara (PKR)  09:05  Sun, Jan 22, 2023  00 Hr 25 Min   \n",
       "4  Sun, Jan 22, 2023  Pokhara (PKR)  10:10  Sun, Jan 22, 2023  00 Hr 25 Min   \n",
       "\n",
       "                                                  9   ...     22  \\\n",
       "0  5 Kg\\n                                        ...  ...  13:40   \n",
       "1  5 Kg\\n                                        ...  ...   None   \n",
       "2  5 Kg\\n                                        ...  ...   None   \n",
       "3  5 Kg\\n                                        ...  ...   None   \n",
       "4  5 Kg\\n                                        ...  ...   None   \n",
       "\n",
       "                  23            24  \\\n",
       "0  Sun, Jan 22, 2023  00 Hr 20 Min   \n",
       "1               None          None   \n",
       "2               None          None   \n",
       "3               None          None   \n",
       "4               None          None   \n",
       "\n",
       "                                                  25         26  \\\n",
       "0  5 Kg\\n                                        ...  NPR 3,595   \n",
       "1                                               None       None   \n",
       "2                                               None       None   \n",
       "3                                               None       None   \n",
       "4                                               None       None   \n",
       "\n",
       "               27              28  \\\n",
       "0  Non Refundable  flight details   \n",
       "1            None            None   \n",
       "2            None            None   \n",
       "3            None            None   \n",
       "4            None            None   \n",
       "\n",
       "                                                  29  \\\n",
       "0  Kathmandu(KTM)\\n                              ...   \n",
       "1                                               None   \n",
       "2                                               None   \n",
       "3                                               None   \n",
       "4                                               None   \n",
       "\n",
       "                                                  30            31  \n",
       "0  Saurya Airlines\\n                             ...  00 Hr 20 Min  \n",
       "1                                               None          None  \n",
       "2                                               None          None  \n",
       "3                                               None          None  \n",
       "4                                               None          None  \n",
       "\n",
       "[5 rows x 32 columns]"
      ]
     },
     "execution_count": 20,
     "metadata": {},
     "output_type": "execute_result"
    }
   ],
   "source": [
    "df.head()"
   ]
  },
  {
   "cell_type": "code",
   "execution_count": 21,
   "id": "27e0e13b",
   "metadata": {},
   "outputs": [
    {
     "data": {
      "text/plain": [
       "(113, 32)"
      ]
     },
     "execution_count": 21,
     "metadata": {},
     "output_type": "execute_result"
    }
   ],
   "source": [
    "df.shape"
   ]
  },
  {
   "cell_type": "code",
   "execution_count": 22,
   "id": "422f4bd0",
   "metadata": {},
   "outputs": [],
   "source": [
    "df = df.drop(df.iloc[:, 15:],axis = 1)"
   ]
  },
  {
   "cell_type": "code",
   "execution_count": 23,
   "id": "d0d72ad9",
   "metadata": {},
   "outputs": [
    {
     "data": {
      "text/html": [
       "<div>\n",
       "<style scoped>\n",
       "    .dataframe tbody tr th:only-of-type {\n",
       "        vertical-align: middle;\n",
       "    }\n",
       "\n",
       "    .dataframe tbody tr th {\n",
       "        vertical-align: top;\n",
       "    }\n",
       "\n",
       "    .dataframe thead th {\n",
       "        text-align: right;\n",
       "    }\n",
       "</style>\n",
       "<table border=\"1\" class=\"dataframe\">\n",
       "  <thead>\n",
       "    <tr style=\"text-align: right;\">\n",
       "      <th></th>\n",
       "      <th>0</th>\n",
       "      <th>1</th>\n",
       "      <th>2</th>\n",
       "      <th>3</th>\n",
       "      <th>4</th>\n",
       "      <th>5</th>\n",
       "      <th>6</th>\n",
       "      <th>7</th>\n",
       "      <th>8</th>\n",
       "      <th>9</th>\n",
       "      <th>10</th>\n",
       "      <th>11</th>\n",
       "      <th>12</th>\n",
       "      <th>13</th>\n",
       "      <th>14</th>\n",
       "    </tr>\n",
       "  </thead>\n",
       "  <tbody>\n",
       "    <tr>\n",
       "      <th>0</th>\n",
       "      <td>Guna Airlines</td>\n",
       "      <td>Ticket PriceNPR 3,350</td>\n",
       "      <td>Kathmandu (KTM)</td>\n",
       "      <td>13:35</td>\n",
       "      <td>Sun, Jan 22, 2023</td>\n",
       "      <td>Pokhara (PKR)</td>\n",
       "      <td>13:58</td>\n",
       "      <td>Sun, Jan 22, 2023</td>\n",
       "      <td>00 Hr 23 Min</td>\n",
       "      <td>5 Kg\\n                                        ...</td>\n",
       "      <td>NPR 3,350</td>\n",
       "      <td>Non Refundable</td>\n",
       "      <td>flight details</td>\n",
       "      <td>Kathmandu(KTM)\\n                              ...</td>\n",
       "      <td>Guna Airlines\\n                               ...</td>\n",
       "    </tr>\n",
       "    <tr>\n",
       "      <th>1</th>\n",
       "      <td>Buddha Air</td>\n",
       "      <td>Ticket PriceNPR 3,650</td>\n",
       "      <td>Kathmandu (KTM)</td>\n",
       "      <td>07:00</td>\n",
       "      <td>Sun, Jan 22, 2023</td>\n",
       "      <td>Pokhara (PKR)</td>\n",
       "      <td>07:25</td>\n",
       "      <td>Sun, Jan 22, 2023</td>\n",
       "      <td>00 Hr 25 Min</td>\n",
       "      <td>5 Kg\\n                                        ...</td>\n",
       "      <td>NPR 3,650</td>\n",
       "      <td>Non Refundable</td>\n",
       "      <td>flight details</td>\n",
       "      <td>Kathmandu(KTM)\\n                              ...</td>\n",
       "      <td>Buddha Air\\n                                  ...</td>\n",
       "    </tr>\n",
       "    <tr>\n",
       "      <th>2</th>\n",
       "      <td>Buddha Air</td>\n",
       "      <td>Ticket PriceNPR 3,650</td>\n",
       "      <td>Kathmandu (KTM)</td>\n",
       "      <td>07:55</td>\n",
       "      <td>Sun, Jan 22, 2023</td>\n",
       "      <td>Pokhara (PKR)</td>\n",
       "      <td>08:20</td>\n",
       "      <td>Sun, Jan 22, 2023</td>\n",
       "      <td>00 Hr 25 Min</td>\n",
       "      <td>5 Kg\\n                                        ...</td>\n",
       "      <td>NPR 3,650</td>\n",
       "      <td>Non Refundable</td>\n",
       "      <td>flight details</td>\n",
       "      <td>Kathmandu(KTM)\\n                              ...</td>\n",
       "      <td>Buddha Air\\n                                  ...</td>\n",
       "    </tr>\n",
       "    <tr>\n",
       "      <th>3</th>\n",
       "      <td>Buddha Air</td>\n",
       "      <td>Ticket PriceNPR 3,650</td>\n",
       "      <td>Kathmandu (KTM)</td>\n",
       "      <td>08:40</td>\n",
       "      <td>Sun, Jan 22, 2023</td>\n",
       "      <td>Pokhara (PKR)</td>\n",
       "      <td>09:05</td>\n",
       "      <td>Sun, Jan 22, 2023</td>\n",
       "      <td>00 Hr 25 Min</td>\n",
       "      <td>5 Kg\\n                                        ...</td>\n",
       "      <td>NPR 3,650</td>\n",
       "      <td>Non Refundable</td>\n",
       "      <td>flight details</td>\n",
       "      <td>Kathmandu(KTM)\\n                              ...</td>\n",
       "      <td>Buddha Air\\n                                  ...</td>\n",
       "    </tr>\n",
       "    <tr>\n",
       "      <th>4</th>\n",
       "      <td>Buddha Air</td>\n",
       "      <td>Ticket PriceNPR 3,650</td>\n",
       "      <td>Kathmandu (KTM)</td>\n",
       "      <td>09:45</td>\n",
       "      <td>Sun, Jan 22, 2023</td>\n",
       "      <td>Pokhara (PKR)</td>\n",
       "      <td>10:10</td>\n",
       "      <td>Sun, Jan 22, 2023</td>\n",
       "      <td>00 Hr 25 Min</td>\n",
       "      <td>5 Kg\\n                                        ...</td>\n",
       "      <td>NPR 3,650</td>\n",
       "      <td>Non Refundable</td>\n",
       "      <td>flight details</td>\n",
       "      <td>Kathmandu(KTM)\\n                              ...</td>\n",
       "      <td>Buddha Air\\n                                  ...</td>\n",
       "    </tr>\n",
       "  </tbody>\n",
       "</table>\n",
       "</div>"
      ],
      "text/plain": [
       "              0                      1                2      3   \\\n",
       "0  Guna Airlines  Ticket PriceNPR 3,350  Kathmandu (KTM)  13:35   \n",
       "1     Buddha Air  Ticket PriceNPR 3,650  Kathmandu (KTM)  07:00   \n",
       "2     Buddha Air  Ticket PriceNPR 3,650  Kathmandu (KTM)  07:55   \n",
       "3     Buddha Air  Ticket PriceNPR 3,650  Kathmandu (KTM)  08:40   \n",
       "4     Buddha Air  Ticket PriceNPR 3,650  Kathmandu (KTM)  09:45   \n",
       "\n",
       "                  4              5      6                  7             8   \\\n",
       "0  Sun, Jan 22, 2023  Pokhara (PKR)  13:58  Sun, Jan 22, 2023  00 Hr 23 Min   \n",
       "1  Sun, Jan 22, 2023  Pokhara (PKR)  07:25  Sun, Jan 22, 2023  00 Hr 25 Min   \n",
       "2  Sun, Jan 22, 2023  Pokhara (PKR)  08:20  Sun, Jan 22, 2023  00 Hr 25 Min   \n",
       "3  Sun, Jan 22, 2023  Pokhara (PKR)  09:05  Sun, Jan 22, 2023  00 Hr 25 Min   \n",
       "4  Sun, Jan 22, 2023  Pokhara (PKR)  10:10  Sun, Jan 22, 2023  00 Hr 25 Min   \n",
       "\n",
       "                                                  9          10  \\\n",
       "0  5 Kg\\n                                        ...  NPR 3,350   \n",
       "1  5 Kg\\n                                        ...  NPR 3,650   \n",
       "2  5 Kg\\n                                        ...  NPR 3,650   \n",
       "3  5 Kg\\n                                        ...  NPR 3,650   \n",
       "4  5 Kg\\n                                        ...  NPR 3,650   \n",
       "\n",
       "               11              12  \\\n",
       "0  Non Refundable  flight details   \n",
       "1  Non Refundable  flight details   \n",
       "2  Non Refundable  flight details   \n",
       "3  Non Refundable  flight details   \n",
       "4  Non Refundable  flight details   \n",
       "\n",
       "                                                  13  \\\n",
       "0  Kathmandu(KTM)\\n                              ...   \n",
       "1  Kathmandu(KTM)\\n                              ...   \n",
       "2  Kathmandu(KTM)\\n                              ...   \n",
       "3  Kathmandu(KTM)\\n                              ...   \n",
       "4  Kathmandu(KTM)\\n                              ...   \n",
       "\n",
       "                                                  14  \n",
       "0  Guna Airlines\\n                               ...  \n",
       "1  Buddha Air\\n                                  ...  \n",
       "2  Buddha Air\\n                                  ...  \n",
       "3  Buddha Air\\n                                  ...  \n",
       "4  Buddha Air\\n                                  ...  "
      ]
     },
     "execution_count": 23,
     "metadata": {},
     "output_type": "execute_result"
    }
   ],
   "source": [
    "df.head()"
   ]
  },
  {
   "cell_type": "code",
   "execution_count": 24,
   "id": "4c655dd0",
   "metadata": {},
   "outputs": [],
   "source": [
    "df = df.drop(columns = [1, 2, 5, 7, 12, 13, 14], axis =1)"
   ]
  },
  {
   "cell_type": "code",
   "execution_count": 25,
   "id": "99295c22",
   "metadata": {},
   "outputs": [
    {
     "data": {
      "text/html": [
       "<div>\n",
       "<style scoped>\n",
       "    .dataframe tbody tr th:only-of-type {\n",
       "        vertical-align: middle;\n",
       "    }\n",
       "\n",
       "    .dataframe tbody tr th {\n",
       "        vertical-align: top;\n",
       "    }\n",
       "\n",
       "    .dataframe thead th {\n",
       "        text-align: right;\n",
       "    }\n",
       "</style>\n",
       "<table border=\"1\" class=\"dataframe\">\n",
       "  <thead>\n",
       "    <tr style=\"text-align: right;\">\n",
       "      <th></th>\n",
       "      <th>0</th>\n",
       "      <th>3</th>\n",
       "      <th>4</th>\n",
       "      <th>6</th>\n",
       "      <th>8</th>\n",
       "      <th>9</th>\n",
       "      <th>10</th>\n",
       "      <th>11</th>\n",
       "    </tr>\n",
       "  </thead>\n",
       "  <tbody>\n",
       "    <tr>\n",
       "      <th>0</th>\n",
       "      <td>Guna Airlines</td>\n",
       "      <td>13:35</td>\n",
       "      <td>Sun, Jan 22, 2023</td>\n",
       "      <td>13:58</td>\n",
       "      <td>00 Hr 23 Min</td>\n",
       "      <td>5 Kg\\n                                        ...</td>\n",
       "      <td>NPR 3,350</td>\n",
       "      <td>Non Refundable</td>\n",
       "    </tr>\n",
       "    <tr>\n",
       "      <th>1</th>\n",
       "      <td>Buddha Air</td>\n",
       "      <td>07:00</td>\n",
       "      <td>Sun, Jan 22, 2023</td>\n",
       "      <td>07:25</td>\n",
       "      <td>00 Hr 25 Min</td>\n",
       "      <td>5 Kg\\n                                        ...</td>\n",
       "      <td>NPR 3,650</td>\n",
       "      <td>Non Refundable</td>\n",
       "    </tr>\n",
       "    <tr>\n",
       "      <th>2</th>\n",
       "      <td>Buddha Air</td>\n",
       "      <td>07:55</td>\n",
       "      <td>Sun, Jan 22, 2023</td>\n",
       "      <td>08:20</td>\n",
       "      <td>00 Hr 25 Min</td>\n",
       "      <td>5 Kg\\n                                        ...</td>\n",
       "      <td>NPR 3,650</td>\n",
       "      <td>Non Refundable</td>\n",
       "    </tr>\n",
       "    <tr>\n",
       "      <th>3</th>\n",
       "      <td>Buddha Air</td>\n",
       "      <td>08:40</td>\n",
       "      <td>Sun, Jan 22, 2023</td>\n",
       "      <td>09:05</td>\n",
       "      <td>00 Hr 25 Min</td>\n",
       "      <td>5 Kg\\n                                        ...</td>\n",
       "      <td>NPR 3,650</td>\n",
       "      <td>Non Refundable</td>\n",
       "    </tr>\n",
       "    <tr>\n",
       "      <th>4</th>\n",
       "      <td>Buddha Air</td>\n",
       "      <td>09:45</td>\n",
       "      <td>Sun, Jan 22, 2023</td>\n",
       "      <td>10:10</td>\n",
       "      <td>00 Hr 25 Min</td>\n",
       "      <td>5 Kg\\n                                        ...</td>\n",
       "      <td>NPR 3,650</td>\n",
       "      <td>Non Refundable</td>\n",
       "    </tr>\n",
       "  </tbody>\n",
       "</table>\n",
       "</div>"
      ],
      "text/plain": [
       "              0      3                  4      6             8   \\\n",
       "0  Guna Airlines  13:35  Sun, Jan 22, 2023  13:58  00 Hr 23 Min   \n",
       "1     Buddha Air  07:00  Sun, Jan 22, 2023  07:25  00 Hr 25 Min   \n",
       "2     Buddha Air  07:55  Sun, Jan 22, 2023  08:20  00 Hr 25 Min   \n",
       "3     Buddha Air  08:40  Sun, Jan 22, 2023  09:05  00 Hr 25 Min   \n",
       "4     Buddha Air  09:45  Sun, Jan 22, 2023  10:10  00 Hr 25 Min   \n",
       "\n",
       "                                                  9          10  \\\n",
       "0  5 Kg\\n                                        ...  NPR 3,350   \n",
       "1  5 Kg\\n                                        ...  NPR 3,650   \n",
       "2  5 Kg\\n                                        ...  NPR 3,650   \n",
       "3  5 Kg\\n                                        ...  NPR 3,650   \n",
       "4  5 Kg\\n                                        ...  NPR 3,650   \n",
       "\n",
       "               11  \n",
       "0  Non Refundable  \n",
       "1  Non Refundable  \n",
       "2  Non Refundable  \n",
       "3  Non Refundable  \n",
       "4  Non Refundable  "
      ]
     },
     "execution_count": 25,
     "metadata": {},
     "output_type": "execute_result"
    }
   ],
   "source": [
    "df.head()"
   ]
  },
  {
   "cell_type": "code",
   "execution_count": 26,
   "id": "dc2d4e29",
   "metadata": {},
   "outputs": [],
   "source": [
    "df.columns = [\"airlines\", \"departure\", \"date\", \"arrival\", \"duration\", \"luggage weight\", \"price\", \"Refund\"]"
   ]
  },
  {
   "cell_type": "code",
   "execution_count": 27,
   "id": "330cdef5",
   "metadata": {},
   "outputs": [
    {
     "data": {
      "text/html": [
       "<div>\n",
       "<style scoped>\n",
       "    .dataframe tbody tr th:only-of-type {\n",
       "        vertical-align: middle;\n",
       "    }\n",
       "\n",
       "    .dataframe tbody tr th {\n",
       "        vertical-align: top;\n",
       "    }\n",
       "\n",
       "    .dataframe thead th {\n",
       "        text-align: right;\n",
       "    }\n",
       "</style>\n",
       "<table border=\"1\" class=\"dataframe\">\n",
       "  <thead>\n",
       "    <tr style=\"text-align: right;\">\n",
       "      <th></th>\n",
       "      <th>airlines</th>\n",
       "      <th>departure</th>\n",
       "      <th>date</th>\n",
       "      <th>arrival</th>\n",
       "      <th>duration</th>\n",
       "      <th>luggage weight</th>\n",
       "      <th>price</th>\n",
       "      <th>Refund</th>\n",
       "    </tr>\n",
       "  </thead>\n",
       "  <tbody>\n",
       "    <tr>\n",
       "      <th>0</th>\n",
       "      <td>Guna Airlines</td>\n",
       "      <td>13:35</td>\n",
       "      <td>Sun, Jan 22, 2023</td>\n",
       "      <td>13:58</td>\n",
       "      <td>00 Hr 23 Min</td>\n",
       "      <td>5 Kg\\n                                        ...</td>\n",
       "      <td>NPR 3,350</td>\n",
       "      <td>Non Refundable</td>\n",
       "    </tr>\n",
       "    <tr>\n",
       "      <th>1</th>\n",
       "      <td>Buddha Air</td>\n",
       "      <td>07:00</td>\n",
       "      <td>Sun, Jan 22, 2023</td>\n",
       "      <td>07:25</td>\n",
       "      <td>00 Hr 25 Min</td>\n",
       "      <td>5 Kg\\n                                        ...</td>\n",
       "      <td>NPR 3,650</td>\n",
       "      <td>Non Refundable</td>\n",
       "    </tr>\n",
       "    <tr>\n",
       "      <th>2</th>\n",
       "      <td>Buddha Air</td>\n",
       "      <td>07:55</td>\n",
       "      <td>Sun, Jan 22, 2023</td>\n",
       "      <td>08:20</td>\n",
       "      <td>00 Hr 25 Min</td>\n",
       "      <td>5 Kg\\n                                        ...</td>\n",
       "      <td>NPR 3,650</td>\n",
       "      <td>Non Refundable</td>\n",
       "    </tr>\n",
       "    <tr>\n",
       "      <th>3</th>\n",
       "      <td>Buddha Air</td>\n",
       "      <td>08:40</td>\n",
       "      <td>Sun, Jan 22, 2023</td>\n",
       "      <td>09:05</td>\n",
       "      <td>00 Hr 25 Min</td>\n",
       "      <td>5 Kg\\n                                        ...</td>\n",
       "      <td>NPR 3,650</td>\n",
       "      <td>Non Refundable</td>\n",
       "    </tr>\n",
       "    <tr>\n",
       "      <th>4</th>\n",
       "      <td>Buddha Air</td>\n",
       "      <td>09:45</td>\n",
       "      <td>Sun, Jan 22, 2023</td>\n",
       "      <td>10:10</td>\n",
       "      <td>00 Hr 25 Min</td>\n",
       "      <td>5 Kg\\n                                        ...</td>\n",
       "      <td>NPR 3,650</td>\n",
       "      <td>Non Refundable</td>\n",
       "    </tr>\n",
       "  </tbody>\n",
       "</table>\n",
       "</div>"
      ],
      "text/plain": [
       "        airlines departure               date arrival      duration  \\\n",
       "0  Guna Airlines     13:35  Sun, Jan 22, 2023   13:58  00 Hr 23 Min   \n",
       "1     Buddha Air     07:00  Sun, Jan 22, 2023   07:25  00 Hr 25 Min   \n",
       "2     Buddha Air     07:55  Sun, Jan 22, 2023   08:20  00 Hr 25 Min   \n",
       "3     Buddha Air     08:40  Sun, Jan 22, 2023   09:05  00 Hr 25 Min   \n",
       "4     Buddha Air     09:45  Sun, Jan 22, 2023   10:10  00 Hr 25 Min   \n",
       "\n",
       "                                      luggage weight      price  \\\n",
       "0  5 Kg\\n                                        ...  NPR 3,350   \n",
       "1  5 Kg\\n                                        ...  NPR 3,650   \n",
       "2  5 Kg\\n                                        ...  NPR 3,650   \n",
       "3  5 Kg\\n                                        ...  NPR 3,650   \n",
       "4  5 Kg\\n                                        ...  NPR 3,650   \n",
       "\n",
       "           Refund  \n",
       "0  Non Refundable  \n",
       "1  Non Refundable  \n",
       "2  Non Refundable  \n",
       "3  Non Refundable  \n",
       "4  Non Refundable  "
      ]
     },
     "execution_count": 27,
     "metadata": {},
     "output_type": "execute_result"
    }
   ],
   "source": [
    "df.head()"
   ]
  },
  {
   "cell_type": "code",
   "execution_count": 28,
   "id": "dd63ff30",
   "metadata": {},
   "outputs": [
    {
     "data": {
      "text/plain": [
       "array(['Sun, Jan 22, 2023'], dtype=object)"
      ]
     },
     "execution_count": 28,
     "metadata": {},
     "output_type": "execute_result"
    }
   ],
   "source": [
    "df[\"date\"].unique() #since the value has no variance so the column can be eliminated"
   ]
  },
  {
   "cell_type": "code",
   "execution_count": 29,
   "id": "e84e4c76",
   "metadata": {},
   "outputs": [
    {
     "data": {
      "text/plain": [
       "array(['NPR 3,350', 'NPR 3,650', 'NPR 4,340', 'NPR 4,520', 'NPR 4,595',\n",
       "       'NPR 4,600', 'NPR 4,641', 'NPR 4,865', 'NPR 4,891', 'NPR 4,900',\n",
       "       'NPR 5,045', 'NPR 5,356', 'NPR 5,365', 'NPR 5,375', 'NPR 5,378',\n",
       "       'NPR 5,386', 'NPR 5,806', 'NPR 5,815', 'NPR 5,850', 'NPR 5,857',\n",
       "       'NPR 6,118', 'NPR 6,365', 'NPR 6,437'], dtype=object)"
      ]
     },
     "execution_count": 29,
     "metadata": {},
     "output_type": "execute_result"
    }
   ],
   "source": [
    "#handling price column\n",
    "df[\"price\"].unique()"
   ]
  },
  {
   "cell_type": "code",
   "execution_count": 30,
   "id": "4dd82ec7",
   "metadata": {},
   "outputs": [],
   "source": [
    "#handling price column\n",
    "df[\"price\"] = df[\"price\"].str[4] + df[\"price\"].str[6:]"
   ]
  },
  {
   "cell_type": "code",
   "execution_count": 31,
   "id": "2ebeafea",
   "metadata": {},
   "outputs": [
    {
     "data": {
      "text/plain": [
       "array(['5 Kg\\n                                                        \\n\\n 15 Kg',\n",
       "       '5 Kg\\n                                                        \\n\\n 20 Kg',\n",
       "       '5 Kg\\n                                                        \\n\\n 25 Kg'],\n",
       "      dtype=object)"
      ]
     },
     "execution_count": 31,
     "metadata": {},
     "output_type": "execute_result"
    }
   ],
   "source": [
    "#handling luggage weight\n",
    "df[\"luggage weight\"].unique()"
   ]
  },
  {
   "cell_type": "code",
   "execution_count": 32,
   "id": "003c06f8",
   "metadata": {},
   "outputs": [],
   "source": [
    "#handling luggage weight\n",
    "df[\"luggage weight\"] = df[\"luggage weight\"].str[-5:-3]"
   ]
  },
  {
   "cell_type": "code",
   "execution_count": 33,
   "id": "7ce94949",
   "metadata": {},
   "outputs": [
    {
     "data": {
      "text/plain": [
       "array(['15', '20', '25'], dtype=object)"
      ]
     },
     "execution_count": 33,
     "metadata": {},
     "output_type": "execute_result"
    }
   ],
   "source": [
    "df[\"luggage weight\"].unique()"
   ]
  },
  {
   "cell_type": "code",
   "execution_count": 34,
   "id": "3ca8d847",
   "metadata": {},
   "outputs": [
    {
     "data": {
      "text/html": [
       "<div>\n",
       "<style scoped>\n",
       "    .dataframe tbody tr th:only-of-type {\n",
       "        vertical-align: middle;\n",
       "    }\n",
       "\n",
       "    .dataframe tbody tr th {\n",
       "        vertical-align: top;\n",
       "    }\n",
       "\n",
       "    .dataframe thead th {\n",
       "        text-align: right;\n",
       "    }\n",
       "</style>\n",
       "<table border=\"1\" class=\"dataframe\">\n",
       "  <thead>\n",
       "    <tr style=\"text-align: right;\">\n",
       "      <th></th>\n",
       "      <th>airlines</th>\n",
       "      <th>departure</th>\n",
       "      <th>date</th>\n",
       "      <th>arrival</th>\n",
       "      <th>duration</th>\n",
       "      <th>luggage weight</th>\n",
       "      <th>price</th>\n",
       "      <th>Refund</th>\n",
       "    </tr>\n",
       "  </thead>\n",
       "  <tbody>\n",
       "    <tr>\n",
       "      <th>0</th>\n",
       "      <td>Guna Airlines</td>\n",
       "      <td>13:35</td>\n",
       "      <td>Sun, Jan 22, 2023</td>\n",
       "      <td>13:58</td>\n",
       "      <td>00 Hr 23 Min</td>\n",
       "      <td>15</td>\n",
       "      <td>3350</td>\n",
       "      <td>Non Refundable</td>\n",
       "    </tr>\n",
       "    <tr>\n",
       "      <th>1</th>\n",
       "      <td>Buddha Air</td>\n",
       "      <td>07:00</td>\n",
       "      <td>Sun, Jan 22, 2023</td>\n",
       "      <td>07:25</td>\n",
       "      <td>00 Hr 25 Min</td>\n",
       "      <td>15</td>\n",
       "      <td>3650</td>\n",
       "      <td>Non Refundable</td>\n",
       "    </tr>\n",
       "    <tr>\n",
       "      <th>2</th>\n",
       "      <td>Buddha Air</td>\n",
       "      <td>07:55</td>\n",
       "      <td>Sun, Jan 22, 2023</td>\n",
       "      <td>08:20</td>\n",
       "      <td>00 Hr 25 Min</td>\n",
       "      <td>15</td>\n",
       "      <td>3650</td>\n",
       "      <td>Non Refundable</td>\n",
       "    </tr>\n",
       "    <tr>\n",
       "      <th>3</th>\n",
       "      <td>Buddha Air</td>\n",
       "      <td>08:40</td>\n",
       "      <td>Sun, Jan 22, 2023</td>\n",
       "      <td>09:05</td>\n",
       "      <td>00 Hr 25 Min</td>\n",
       "      <td>15</td>\n",
       "      <td>3650</td>\n",
       "      <td>Non Refundable</td>\n",
       "    </tr>\n",
       "    <tr>\n",
       "      <th>4</th>\n",
       "      <td>Buddha Air</td>\n",
       "      <td>09:45</td>\n",
       "      <td>Sun, Jan 22, 2023</td>\n",
       "      <td>10:10</td>\n",
       "      <td>00 Hr 25 Min</td>\n",
       "      <td>15</td>\n",
       "      <td>3650</td>\n",
       "      <td>Non Refundable</td>\n",
       "    </tr>\n",
       "  </tbody>\n",
       "</table>\n",
       "</div>"
      ],
      "text/plain": [
       "        airlines departure               date arrival      duration  \\\n",
       "0  Guna Airlines     13:35  Sun, Jan 22, 2023   13:58  00 Hr 23 Min   \n",
       "1     Buddha Air     07:00  Sun, Jan 22, 2023   07:25  00 Hr 25 Min   \n",
       "2     Buddha Air     07:55  Sun, Jan 22, 2023   08:20  00 Hr 25 Min   \n",
       "3     Buddha Air     08:40  Sun, Jan 22, 2023   09:05  00 Hr 25 Min   \n",
       "4     Buddha Air     09:45  Sun, Jan 22, 2023   10:10  00 Hr 25 Min   \n",
       "\n",
       "  luggage weight price          Refund  \n",
       "0             15  3350  Non Refundable  \n",
       "1             15  3650  Non Refundable  \n",
       "2             15  3650  Non Refundable  \n",
       "3             15  3650  Non Refundable  \n",
       "4             15  3650  Non Refundable  "
      ]
     },
     "execution_count": 34,
     "metadata": {},
     "output_type": "execute_result"
    }
   ],
   "source": [
    "df.head()"
   ]
  },
  {
   "cell_type": "code",
   "execution_count": 35,
   "id": "473c12b4",
   "metadata": {},
   "outputs": [
    {
     "data": {
      "text/plain": [
       "array(['00 Hr 23 Min', '00 Hr 25 Min', '00 Hr 20 Min'], dtype=object)"
      ]
     },
     "execution_count": 35,
     "metadata": {},
     "output_type": "execute_result"
    }
   ],
   "source": [
    "#handling duration column\n",
    "df.duration.unique()"
   ]
  },
  {
   "cell_type": "code",
   "execution_count": 36,
   "id": "bb979016",
   "metadata": {},
   "outputs": [],
   "source": [
    "df.duration = df.duration.str[6:8]"
   ]
  },
  {
   "cell_type": "code",
   "execution_count": 37,
   "id": "638ca6f5",
   "metadata": {},
   "outputs": [
    {
     "data": {
      "text/plain": [
       "array(['23', '25', '20'], dtype=object)"
      ]
     },
     "execution_count": 37,
     "metadata": {},
     "output_type": "execute_result"
    }
   ],
   "source": [
    "df.duration.unique()"
   ]
  },
  {
   "cell_type": "markdown",
   "id": "5b42e913",
   "metadata": {},
   "source": [
    "# Data visualization"
   ]
  },
  {
   "cell_type": "code",
   "execution_count": 38,
   "id": "1f8b5bee",
   "metadata": {},
   "outputs": [
    {
     "data": {
      "text/plain": [
       "<AxesSubplot: >"
      ]
     },
     "execution_count": 38,
     "metadata": {},
     "output_type": "execute_result"
    },
    {
     "data": {
      "image/png": "[encoded data removed]",
      "text/plain": [
       "<Figure size 640x480 with 1 Axes>"
      ]
     },
     "metadata": {},
     "output_type": "display_data"
    }
   ],
   "source": [
    "df.Refund.hist()"
   ]
  },
  {
   "cell_type": "code",
   "execution_count": 39,
   "id": "a4ffad91",
   "metadata": {},
   "outputs": [
    {
     "data": {
      "text/plain": [
       "<AxesSubplot: >"
      ]
     },
     "execution_count": 39,
     "metadata": {},
     "output_type": "execute_result"
    },
    {
     "data": {
      "image/png": "[encoded data removed]",
      "text/plain": [
       "<Figure size 1900x900 with 1 Axes>"
      ]
     },
     "metadata": {},
     "output_type": "display_data"
    }
   ],
   "source": [
    "df.price.hist(figsize=(19,9))"
   ]
  },
  {
   "cell_type": "code",
   "execution_count": 40,
   "id": "22f4f38e",
   "metadata": {},
   "outputs": [
    {
     "data": {
      "text/plain": [
       "array(['Non Refundable', 'Partial Refundable'], dtype=object)"
      ]
     },
     "execution_count": 40,
     "metadata": {},
     "output_type": "execute_result"
    }
   ],
   "source": [
    "#handing refund\n",
    "df.Refund.unique()"
   ]
  },
  {
   "cell_type": "code",
   "execution_count": 41,
   "id": "794124db",
   "metadata": {},
   "outputs": [],
   "source": [
    "df.Refund = np.where(df[\"Refund\"] == \"Non Refundable\", 0, 1)"
   ]
  },
  {
   "cell_type": "code",
   "execution_count": 42,
   "id": "6d96a184",
   "metadata": {},
   "outputs": [
    {
     "data": {
      "text/plain": [
       "array([0, 1])"
      ]
     },
     "execution_count": 42,
     "metadata": {},
     "output_type": "execute_result"
    }
   ],
   "source": [
    "df.Refund.unique()"
   ]
  },
  {
   "cell_type": "code",
   "execution_count": 43,
   "id": "bb6410c2",
   "metadata": {},
   "outputs": [
    {
     "data": {
      "text/html": [
       "<div>\n",
       "<style scoped>\n",
       "    .dataframe tbody tr th:only-of-type {\n",
       "        vertical-align: middle;\n",
       "    }\n",
       "\n",
       "    .dataframe tbody tr th {\n",
       "        vertical-align: top;\n",
       "    }\n",
       "\n",
       "    .dataframe thead th {\n",
       "        text-align: right;\n",
       "    }\n",
       "</style>\n",
       "<table border=\"1\" class=\"dataframe\">\n",
       "  <thead>\n",
       "    <tr style=\"text-align: right;\">\n",
       "      <th></th>\n",
       "      <th>airlines</th>\n",
       "      <th>departure</th>\n",
       "      <th>date</th>\n",
       "      <th>arrival</th>\n",
       "      <th>duration</th>\n",
       "      <th>luggage weight</th>\n",
       "      <th>price</th>\n",
       "      <th>Refund</th>\n",
       "    </tr>\n",
       "  </thead>\n",
       "  <tbody>\n",
       "    <tr>\n",
       "      <th>0</th>\n",
       "      <td>Guna Airlines</td>\n",
       "      <td>13:35</td>\n",
       "      <td>Sun, Jan 22, 2023</td>\n",
       "      <td>13:58</td>\n",
       "      <td>23</td>\n",
       "      <td>15</td>\n",
       "      <td>3350</td>\n",
       "      <td>0</td>\n",
       "    </tr>\n",
       "    <tr>\n",
       "      <th>1</th>\n",
       "      <td>Buddha Air</td>\n",
       "      <td>07:00</td>\n",
       "      <td>Sun, Jan 22, 2023</td>\n",
       "      <td>07:25</td>\n",
       "      <td>25</td>\n",
       "      <td>15</td>\n",
       "      <td>3650</td>\n",
       "      <td>0</td>\n",
       "    </tr>\n",
       "    <tr>\n",
       "      <th>2</th>\n",
       "      <td>Buddha Air</td>\n",
       "      <td>07:55</td>\n",
       "      <td>Sun, Jan 22, 2023</td>\n",
       "      <td>08:20</td>\n",
       "      <td>25</td>\n",
       "      <td>15</td>\n",
       "      <td>3650</td>\n",
       "      <td>0</td>\n",
       "    </tr>\n",
       "    <tr>\n",
       "      <th>3</th>\n",
       "      <td>Buddha Air</td>\n",
       "      <td>08:40</td>\n",
       "      <td>Sun, Jan 22, 2023</td>\n",
       "      <td>09:05</td>\n",
       "      <td>25</td>\n",
       "      <td>15</td>\n",
       "      <td>3650</td>\n",
       "      <td>0</td>\n",
       "    </tr>\n",
       "    <tr>\n",
       "      <th>4</th>\n",
       "      <td>Buddha Air</td>\n",
       "      <td>09:45</td>\n",
       "      <td>Sun, Jan 22, 2023</td>\n",
       "      <td>10:10</td>\n",
       "      <td>25</td>\n",
       "      <td>15</td>\n",
       "      <td>3650</td>\n",
       "      <td>0</td>\n",
       "    </tr>\n",
       "  </tbody>\n",
       "</table>\n",
       "</div>"
      ],
      "text/plain": [
       "        airlines departure               date arrival duration luggage weight  \\\n",
       "0  Guna Airlines     13:35  Sun, Jan 22, 2023   13:58       23             15   \n",
       "1     Buddha Air     07:00  Sun, Jan 22, 2023   07:25       25             15   \n",
       "2     Buddha Air     07:55  Sun, Jan 22, 2023   08:20       25             15   \n",
       "3     Buddha Air     08:40  Sun, Jan 22, 2023   09:05       25             15   \n",
       "4     Buddha Air     09:45  Sun, Jan 22, 2023   10:10       25             15   \n",
       "\n",
       "  price  Refund  \n",
       "0  3350       0  \n",
       "1  3650       0  \n",
       "2  3650       0  \n",
       "3  3650       0  \n",
       "4  3650       0  "
      ]
     },
     "execution_count": 43,
     "metadata": {},
     "output_type": "execute_result"
    }
   ],
   "source": [
    "df.head()"
   ]
  },
  {
   "cell_type": "code",
   "execution_count": 44,
   "id": "c20428fc",
   "metadata": {},
   "outputs": [],
   "source": [
    "#handling date column\n",
    "df[\"date\"] = pd.to_datetime(df[\"date\"])"
   ]
  },
  {
   "cell_type": "code",
   "execution_count": 45,
   "id": "4884b609",
   "metadata": {},
   "outputs": [
    {
     "data": {
      "text/plain": [
       "0     2023-01-22\n",
       "1     2023-01-22\n",
       "2     2023-01-22\n",
       "3     2023-01-22\n",
       "4     2023-01-22\n",
       "         ...    \n",
       "108   2023-01-22\n",
       "109   2023-01-22\n",
       "110   2023-01-22\n",
       "111   2023-01-22\n",
       "112   2023-01-22\n",
       "Name: date, Length: 113, dtype: datetime64[ns]"
      ]
     },
     "execution_count": 45,
     "metadata": {},
     "output_type": "execute_result"
    }
   ],
   "source": [
    "df[\"date\"]"
   ]
  },
  {
   "cell_type": "code",
   "execution_count": 46,
   "id": "51d26d45",
   "metadata": {},
   "outputs": [
    {
     "data": {
      "text/plain": [
       "array(['2023-01-22T00:00:00.000000000'], dtype='datetime64[ns]')"
      ]
     },
     "execution_count": 46,
     "metadata": {},
     "output_type": "execute_result"
    }
   ],
   "source": [
    "df[\"date\"].unique()"
   ]
  },
  {
   "cell_type": "code",
   "execution_count": 47,
   "id": "1d87fc73",
   "metadata": {},
   "outputs": [],
   "source": [
    "#since date column has no variance in it so it can be dropped\n",
    "df.drop(\"date\", inplace = True, axis = 1)"
   ]
  },
  {
   "cell_type": "code",
   "execution_count": 48,
   "id": "d673d237",
   "metadata": {},
   "outputs": [
    {
     "data": {
      "text/html": [
       "<div>\n",
       "<style scoped>\n",
       "    .dataframe tbody tr th:only-of-type {\n",
       "        vertical-align: middle;\n",
       "    }\n",
       "\n",
       "    .dataframe tbody tr th {\n",
       "        vertical-align: top;\n",
       "    }\n",
       "\n",
       "    .dataframe thead th {\n",
       "        text-align: right;\n",
       "    }\n",
       "</style>\n",
       "<table border=\"1\" class=\"dataframe\">\n",
       "  <thead>\n",
       "    <tr style=\"text-align: right;\">\n",
       "      <th></th>\n",
       "      <th>airlines</th>\n",
       "      <th>departure</th>\n",
       "      <th>arrival</th>\n",
       "      <th>duration</th>\n",
       "      <th>luggage weight</th>\n",
       "      <th>price</th>\n",
       "      <th>Refund</th>\n",
       "    </tr>\n",
       "  </thead>\n",
       "  <tbody>\n",
       "    <tr>\n",
       "      <th>0</th>\n",
       "      <td>Guna Airlines</td>\n",
       "      <td>13:35</td>\n",
       "      <td>13:58</td>\n",
       "      <td>23</td>\n",
       "      <td>15</td>\n",
       "      <td>3350</td>\n",
       "      <td>0</td>\n",
       "    </tr>\n",
       "    <tr>\n",
       "      <th>1</th>\n",
       "      <td>Buddha Air</td>\n",
       "      <td>07:00</td>\n",
       "      <td>07:25</td>\n",
       "      <td>25</td>\n",
       "      <td>15</td>\n",
       "      <td>3650</td>\n",
       "      <td>0</td>\n",
       "    </tr>\n",
       "    <tr>\n",
       "      <th>2</th>\n",
       "      <td>Buddha Air</td>\n",
       "      <td>07:55</td>\n",
       "      <td>08:20</td>\n",
       "      <td>25</td>\n",
       "      <td>15</td>\n",
       "      <td>3650</td>\n",
       "      <td>0</td>\n",
       "    </tr>\n",
       "    <tr>\n",
       "      <th>3</th>\n",
       "      <td>Buddha Air</td>\n",
       "      <td>08:40</td>\n",
       "      <td>09:05</td>\n",
       "      <td>25</td>\n",
       "      <td>15</td>\n",
       "      <td>3650</td>\n",
       "      <td>0</td>\n",
       "    </tr>\n",
       "    <tr>\n",
       "      <th>4</th>\n",
       "      <td>Buddha Air</td>\n",
       "      <td>09:45</td>\n",
       "      <td>10:10</td>\n",
       "      <td>25</td>\n",
       "      <td>15</td>\n",
       "      <td>3650</td>\n",
       "      <td>0</td>\n",
       "    </tr>\n",
       "  </tbody>\n",
       "</table>\n",
       "</div>"
      ],
      "text/plain": [
       "        airlines departure arrival duration luggage weight price  Refund\n",
       "0  Guna Airlines     13:35   13:58       23             15  3350       0\n",
       "1     Buddha Air     07:00   07:25       25             15  3650       0\n",
       "2     Buddha Air     07:55   08:20       25             15  3650       0\n",
       "3     Buddha Air     08:40   09:05       25             15  3650       0\n",
       "4     Buddha Air     09:45   10:10       25             15  3650       0"
      ]
     },
     "execution_count": 48,
     "metadata": {},
     "output_type": "execute_result"
    }
   ],
   "source": [
    "df.head()"
   ]
  },
  {
   "cell_type": "code",
   "execution_count": 49,
   "id": "0a103a3d",
   "metadata": {},
   "outputs": [],
   "source": [
    "#handling departure and arrival\n",
    "df.departure = pd.to_datetime(df[\"departure\"])\n",
    "df.arrival = pd.to_datetime(df[\"arrival\"])"
   ]
  },
  {
   "cell_type": "code",
   "execution_count": 50,
   "id": "b83f3843",
   "metadata": {},
   "outputs": [],
   "source": [
    "df[\"departure hour\"] = df.departure.dt.hour\n",
    "df[\"departure minute\"] = df.departure.dt.minute\n",
    "df[\"arrival hour\"] = df.arrival.dt.hour\n",
    "df[\"arrival minute\"] = df.arrival.dt.minute"
   ]
  },
  {
   "cell_type": "code",
   "execution_count": 51,
   "id": "6c9d3489",
   "metadata": {},
   "outputs": [
    {
     "data": {
      "text/html": [
       "<div>\n",
       "<style scoped>\n",
       "    .dataframe tbody tr th:only-of-type {\n",
       "        vertical-align: middle;\n",
       "    }\n",
       "\n",
       "    .dataframe tbody tr th {\n",
       "        vertical-align: top;\n",
       "    }\n",
       "\n",
       "    .dataframe thead th {\n",
       "        text-align: right;\n",
       "    }\n",
       "</style>\n",
       "<table border=\"1\" class=\"dataframe\">\n",
       "  <thead>\n",
       "    <tr style=\"text-align: right;\">\n",
       "      <th></th>\n",
       "      <th>airlines</th>\n",
       "      <th>departure</th>\n",
       "      <th>arrival</th>\n",
       "      <th>duration</th>\n",
       "      <th>luggage weight</th>\n",
       "      <th>price</th>\n",
       "      <th>Refund</th>\n",
       "      <th>departure hour</th>\n",
       "      <th>departure minute</th>\n",
       "      <th>arrival hour</th>\n",
       "      <th>arrival minute</th>\n",
       "    </tr>\n",
       "  </thead>\n",
       "  <tbody>\n",
       "    <tr>\n",
       "      <th>0</th>\n",
       "      <td>Guna Airlines</td>\n",
       "      <td>2023-01-20 13:35:00</td>\n",
       "      <td>2023-01-20 13:58:00</td>\n",
       "      <td>23</td>\n",
       "      <td>15</td>\n",
       "      <td>3350</td>\n",
       "      <td>0</td>\n",
       "      <td>13</td>\n",
       "      <td>35</td>\n",
       "      <td>13</td>\n",
       "      <td>58</td>\n",
       "    </tr>\n",
       "    <tr>\n",
       "      <th>1</th>\n",
       "      <td>Buddha Air</td>\n",
       "      <td>2023-01-20 07:00:00</td>\n",
       "      <td>2023-01-20 07:25:00</td>\n",
       "      <td>25</td>\n",
       "      <td>15</td>\n",
       "      <td>3650</td>\n",
       "      <td>0</td>\n",
       "      <td>7</td>\n",
       "      <td>0</td>\n",
       "      <td>7</td>\n",
       "      <td>25</td>\n",
       "    </tr>\n",
       "    <tr>\n",
       "      <th>2</th>\n",
       "      <td>Buddha Air</td>\n",
       "      <td>2023-01-20 07:55:00</td>\n",
       "      <td>2023-01-20 08:20:00</td>\n",
       "      <td>25</td>\n",
       "      <td>15</td>\n",
       "      <td>3650</td>\n",
       "      <td>0</td>\n",
       "      <td>7</td>\n",
       "      <td>55</td>\n",
       "      <td>8</td>\n",
       "      <td>20</td>\n",
       "    </tr>\n",
       "    <tr>\n",
       "      <th>3</th>\n",
       "      <td>Buddha Air</td>\n",
       "      <td>2023-01-20 08:40:00</td>\n",
       "      <td>2023-01-20 09:05:00</td>\n",
       "      <td>25</td>\n",
       "      <td>15</td>\n",
       "      <td>3650</td>\n",
       "      <td>0</td>\n",
       "      <td>8</td>\n",
       "      <td>40</td>\n",
       "      <td>9</td>\n",
       "      <td>5</td>\n",
       "    </tr>\n",
       "    <tr>\n",
       "      <th>4</th>\n",
       "      <td>Buddha Air</td>\n",
       "      <td>2023-01-20 09:45:00</td>\n",
       "      <td>2023-01-20 10:10:00</td>\n",
       "      <td>25</td>\n",
       "      <td>15</td>\n",
       "      <td>3650</td>\n",
       "      <td>0</td>\n",
       "      <td>9</td>\n",
       "      <td>45</td>\n",
       "      <td>10</td>\n",
       "      <td>10</td>\n",
       "    </tr>\n",
       "  </tbody>\n",
       "</table>\n",
       "</div>"
      ],
      "text/plain": [
       "        airlines           departure             arrival duration  \\\n",
       "0  Guna Airlines 2023-01-20 13:35:00 2023-01-20 13:58:00       23   \n",
       "1     Buddha Air 2023-01-20 07:00:00 2023-01-20 07:25:00       25   \n",
       "2     Buddha Air 2023-01-20 07:55:00 2023-01-20 08:20:00       25   \n",
       "3     Buddha Air 2023-01-20 08:40:00 2023-01-20 09:05:00       25   \n",
       "4     Buddha Air 2023-01-20 09:45:00 2023-01-20 10:10:00       25   \n",
       "\n",
       "  luggage weight price  Refund  departure hour  departure minute  \\\n",
       "0             15  3350       0              13                35   \n",
       "1             15  3650       0               7                 0   \n",
       "2             15  3650       0               7                55   \n",
       "3             15  3650       0               8                40   \n",
       "4             15  3650       0               9                45   \n",
       "\n",
       "   arrival hour  arrival minute  \n",
       "0            13              58  \n",
       "1             7              25  \n",
       "2             8              20  \n",
       "3             9               5  \n",
       "4            10              10  "
      ]
     },
     "execution_count": 51,
     "metadata": {},
     "output_type": "execute_result"
    }
   ],
   "source": [
    "df.head()"
   ]
  },
  {
   "cell_type": "code",
   "execution_count": 52,
   "id": "535da628",
   "metadata": {},
   "outputs": [],
   "source": [
    "df.drop([\"departure\", \"arrival\"], inplace = True, axis = 1)"
   ]
  },
  {
   "cell_type": "code",
   "execution_count": 53,
   "id": "944d01af",
   "metadata": {},
   "outputs": [
    {
     "data": {
      "text/html": [
       "<div>\n",
       "<style scoped>\n",
       "    .dataframe tbody tr th:only-of-type {\n",
       "        vertical-align: middle;\n",
       "    }\n",
       "\n",
       "    .dataframe tbody tr th {\n",
       "        vertical-align: top;\n",
       "    }\n",
       "\n",
       "    .dataframe thead th {\n",
       "        text-align: right;\n",
       "    }\n",
       "</style>\n",
       "<table border=\"1\" class=\"dataframe\">\n",
       "  <thead>\n",
       "    <tr style=\"text-align: right;\">\n",
       "      <th></th>\n",
       "      <th>airlines</th>\n",
       "      <th>duration</th>\n",
       "      <th>luggage weight</th>\n",
       "      <th>price</th>\n",
       "      <th>Refund</th>\n",
       "      <th>departure hour</th>\n",
       "      <th>departure minute</th>\n",
       "      <th>arrival hour</th>\n",
       "      <th>arrival minute</th>\n",
       "    </tr>\n",
       "  </thead>\n",
       "  <tbody>\n",
       "    <tr>\n",
       "      <th>0</th>\n",
       "      <td>Guna Airlines</td>\n",
       "      <td>23</td>\n",
       "      <td>15</td>\n",
       "      <td>3350</td>\n",
       "      <td>0</td>\n",
       "      <td>13</td>\n",
       "      <td>35</td>\n",
       "      <td>13</td>\n",
       "      <td>58</td>\n",
       "    </tr>\n",
       "    <tr>\n",
       "      <th>1</th>\n",
       "      <td>Buddha Air</td>\n",
       "      <td>25</td>\n",
       "      <td>15</td>\n",
       "      <td>3650</td>\n",
       "      <td>0</td>\n",
       "      <td>7</td>\n",
       "      <td>0</td>\n",
       "      <td>7</td>\n",
       "      <td>25</td>\n",
       "    </tr>\n",
       "    <tr>\n",
       "      <th>2</th>\n",
       "      <td>Buddha Air</td>\n",
       "      <td>25</td>\n",
       "      <td>15</td>\n",
       "      <td>3650</td>\n",
       "      <td>0</td>\n",
       "      <td>7</td>\n",
       "      <td>55</td>\n",
       "      <td>8</td>\n",
       "      <td>20</td>\n",
       "    </tr>\n",
       "    <tr>\n",
       "      <th>3</th>\n",
       "      <td>Buddha Air</td>\n",
       "      <td>25</td>\n",
       "      <td>15</td>\n",
       "      <td>3650</td>\n",
       "      <td>0</td>\n",
       "      <td>8</td>\n",
       "      <td>40</td>\n",
       "      <td>9</td>\n",
       "      <td>5</td>\n",
       "    </tr>\n",
       "    <tr>\n",
       "      <th>4</th>\n",
       "      <td>Buddha Air</td>\n",
       "      <td>25</td>\n",
       "      <td>15</td>\n",
       "      <td>3650</td>\n",
       "      <td>0</td>\n",
       "      <td>9</td>\n",
       "      <td>45</td>\n",
       "      <td>10</td>\n",
       "      <td>10</td>\n",
       "    </tr>\n",
       "  </tbody>\n",
       "</table>\n",
       "</div>"
      ],
      "text/plain": [
       "        airlines duration luggage weight price  Refund  departure hour  \\\n",
       "0  Guna Airlines       23             15  3350       0              13   \n",
       "1     Buddha Air       25             15  3650       0               7   \n",
       "2     Buddha Air       25             15  3650       0               7   \n",
       "3     Buddha Air       25             15  3650       0               8   \n",
       "4     Buddha Air       25             15  3650       0               9   \n",
       "\n",
       "   departure minute  arrival hour  arrival minute  \n",
       "0                35            13              58  \n",
       "1                 0             7              25  \n",
       "2                55             8              20  \n",
       "3                40             9               5  \n",
       "4                45            10              10  "
      ]
     },
     "execution_count": 53,
     "metadata": {},
     "output_type": "execute_result"
    }
   ],
   "source": [
    "df.head()"
   ]
  },
  {
   "cell_type": "code",
   "execution_count": 54,
   "id": "0eba63da",
   "metadata": {},
   "outputs": [],
   "source": [
    "airlines_with_encoding = pd.get_dummies(df.airlines)"
   ]
  },
  {
   "cell_type": "code",
   "execution_count": 55,
   "id": "d3e0ca57",
   "metadata": {},
   "outputs": [
    {
     "data": {
      "text/html": [
       "<div>\n",
       "<style scoped>\n",
       "    .dataframe tbody tr th:only-of-type {\n",
       "        vertical-align: middle;\n",
       "    }\n",
       "\n",
       "    .dataframe tbody tr th {\n",
       "        vertical-align: top;\n",
       "    }\n",
       "\n",
       "    .dataframe thead th {\n",
       "        text-align: right;\n",
       "    }\n",
       "</style>\n",
       "<table border=\"1\" class=\"dataframe\">\n",
       "  <thead>\n",
       "    <tr style=\"text-align: right;\">\n",
       "      <th></th>\n",
       "      <th>Buddha Air</th>\n",
       "      <th>Guna Airlines</th>\n",
       "      <th>Saurya Airlines</th>\n",
       "      <th>Shree Airlines</th>\n",
       "      <th>Yeti Airlines</th>\n",
       "    </tr>\n",
       "  </thead>\n",
       "  <tbody>\n",
       "    <tr>\n",
       "      <th>0</th>\n",
       "      <td>0</td>\n",
       "      <td>1</td>\n",
       "      <td>0</td>\n",
       "      <td>0</td>\n",
       "      <td>0</td>\n",
       "    </tr>\n",
       "    <tr>\n",
       "      <th>1</th>\n",
       "      <td>1</td>\n",
       "      <td>0</td>\n",
       "      <td>0</td>\n",
       "      <td>0</td>\n",
       "      <td>0</td>\n",
       "    </tr>\n",
       "    <tr>\n",
       "      <th>2</th>\n",
       "      <td>1</td>\n",
       "      <td>0</td>\n",
       "      <td>0</td>\n",
       "      <td>0</td>\n",
       "      <td>0</td>\n",
       "    </tr>\n",
       "    <tr>\n",
       "      <th>3</th>\n",
       "      <td>1</td>\n",
       "      <td>0</td>\n",
       "      <td>0</td>\n",
       "      <td>0</td>\n",
       "      <td>0</td>\n",
       "    </tr>\n",
       "    <tr>\n",
       "      <th>4</th>\n",
       "      <td>1</td>\n",
       "      <td>0</td>\n",
       "      <td>0</td>\n",
       "      <td>0</td>\n",
       "      <td>0</td>\n",
       "    </tr>\n",
       "    <tr>\n",
       "      <th>...</th>\n",
       "      <td>...</td>\n",
       "      <td>...</td>\n",
       "      <td>...</td>\n",
       "      <td>...</td>\n",
       "      <td>...</td>\n",
       "    </tr>\n",
       "    <tr>\n",
       "      <th>108</th>\n",
       "      <td>1</td>\n",
       "      <td>0</td>\n",
       "      <td>0</td>\n",
       "      <td>0</td>\n",
       "      <td>0</td>\n",
       "    </tr>\n",
       "    <tr>\n",
       "      <th>109</th>\n",
       "      <td>1</td>\n",
       "      <td>0</td>\n",
       "      <td>0</td>\n",
       "      <td>0</td>\n",
       "      <td>0</td>\n",
       "    </tr>\n",
       "    <tr>\n",
       "      <th>110</th>\n",
       "      <td>1</td>\n",
       "      <td>0</td>\n",
       "      <td>0</td>\n",
       "      <td>0</td>\n",
       "      <td>0</td>\n",
       "    </tr>\n",
       "    <tr>\n",
       "      <th>111</th>\n",
       "      <td>1</td>\n",
       "      <td>0</td>\n",
       "      <td>0</td>\n",
       "      <td>0</td>\n",
       "      <td>0</td>\n",
       "    </tr>\n",
       "    <tr>\n",
       "      <th>112</th>\n",
       "      <td>1</td>\n",
       "      <td>0</td>\n",
       "      <td>0</td>\n",
       "      <td>0</td>\n",
       "      <td>0</td>\n",
       "    </tr>\n",
       "  </tbody>\n",
       "</table>\n",
       "<p>113 rows × 5 columns</p>\n",
       "</div>"
      ],
      "text/plain": [
       "     Buddha Air  Guna Airlines  Saurya Airlines  Shree Airlines  Yeti Airlines\n",
       "0             0              1                0               0              0\n",
       "1             1              0                0               0              0\n",
       "2             1              0                0               0              0\n",
       "3             1              0                0               0              0\n",
       "4             1              0                0               0              0\n",
       "..          ...            ...              ...             ...            ...\n",
       "108           1              0                0               0              0\n",
       "109           1              0                0               0              0\n",
       "110           1              0                0               0              0\n",
       "111           1              0                0               0              0\n",
       "112           1              0                0               0              0\n",
       "\n",
       "[113 rows x 5 columns]"
      ]
     },
     "execution_count": 55,
     "metadata": {},
     "output_type": "execute_result"
    }
   ],
   "source": [
    "airlines_with_encoding"
   ]
  },
  {
   "cell_type": "code",
   "execution_count": null,
   "id": "4c9251cb",
   "metadata": {},
   "outputs": [],
   "source": []
  },
  {
   "cell_type": "code",
   "execution_count": 56,
   "id": "2540108c",
   "metadata": {},
   "outputs": [],
   "source": [
    "df_final = pd.concat([df, airlines_with_encoding], axis = 1)"
   ]
  },
  {
   "cell_type": "code",
   "execution_count": 57,
   "id": "42ecb516",
   "metadata": {},
   "outputs": [
    {
     "data": {
      "text/html": [
       "<div>\n",
       "<style scoped>\n",
       "    .dataframe tbody tr th:only-of-type {\n",
       "        vertical-align: middle;\n",
       "    }\n",
       "\n",
       "    .dataframe tbody tr th {\n",
       "        vertical-align: top;\n",
       "    }\n",
       "\n",
       "    .dataframe thead th {\n",
       "        text-align: right;\n",
       "    }\n",
       "</style>\n",
       "<table border=\"1\" class=\"dataframe\">\n",
       "  <thead>\n",
       "    <tr style=\"text-align: right;\">\n",
       "      <th></th>\n",
       "      <th>airlines</th>\n",
       "      <th>duration</th>\n",
       "      <th>luggage weight</th>\n",
       "      <th>price</th>\n",
       "      <th>Refund</th>\n",
       "      <th>departure hour</th>\n",
       "      <th>departure minute</th>\n",
       "      <th>arrival hour</th>\n",
       "      <th>arrival minute</th>\n",
       "      <th>Buddha Air</th>\n",
       "      <th>Guna Airlines</th>\n",
       "      <th>Saurya Airlines</th>\n",
       "      <th>Shree Airlines</th>\n",
       "      <th>Yeti Airlines</th>\n",
       "    </tr>\n",
       "  </thead>\n",
       "  <tbody>\n",
       "    <tr>\n",
       "      <th>0</th>\n",
       "      <td>Guna Airlines</td>\n",
       "      <td>23</td>\n",
       "      <td>15</td>\n",
       "      <td>3350</td>\n",
       "      <td>0</td>\n",
       "      <td>13</td>\n",
       "      <td>35</td>\n",
       "      <td>13</td>\n",
       "      <td>58</td>\n",
       "      <td>0</td>\n",
       "      <td>1</td>\n",
       "      <td>0</td>\n",
       "      <td>0</td>\n",
       "      <td>0</td>\n",
       "    </tr>\n",
       "    <tr>\n",
       "      <th>1</th>\n",
       "      <td>Buddha Air</td>\n",
       "      <td>25</td>\n",
       "      <td>15</td>\n",
       "      <td>3650</td>\n",
       "      <td>0</td>\n",
       "      <td>7</td>\n",
       "      <td>0</td>\n",
       "      <td>7</td>\n",
       "      <td>25</td>\n",
       "      <td>1</td>\n",
       "      <td>0</td>\n",
       "      <td>0</td>\n",
       "      <td>0</td>\n",
       "      <td>0</td>\n",
       "    </tr>\n",
       "    <tr>\n",
       "      <th>2</th>\n",
       "      <td>Buddha Air</td>\n",
       "      <td>25</td>\n",
       "      <td>15</td>\n",
       "      <td>3650</td>\n",
       "      <td>0</td>\n",
       "      <td>7</td>\n",
       "      <td>55</td>\n",
       "      <td>8</td>\n",
       "      <td>20</td>\n",
       "      <td>1</td>\n",
       "      <td>0</td>\n",
       "      <td>0</td>\n",
       "      <td>0</td>\n",
       "      <td>0</td>\n",
       "    </tr>\n",
       "    <tr>\n",
       "      <th>3</th>\n",
       "      <td>Buddha Air</td>\n",
       "      <td>25</td>\n",
       "      <td>15</td>\n",
       "      <td>3650</td>\n",
       "      <td>0</td>\n",
       "      <td>8</td>\n",
       "      <td>40</td>\n",
       "      <td>9</td>\n",
       "      <td>5</td>\n",
       "      <td>1</td>\n",
       "      <td>0</td>\n",
       "      <td>0</td>\n",
       "      <td>0</td>\n",
       "      <td>0</td>\n",
       "    </tr>\n",
       "    <tr>\n",
       "      <th>4</th>\n",
       "      <td>Buddha Air</td>\n",
       "      <td>25</td>\n",
       "      <td>15</td>\n",
       "      <td>3650</td>\n",
       "      <td>0</td>\n",
       "      <td>9</td>\n",
       "      <td>45</td>\n",
       "      <td>10</td>\n",
       "      <td>10</td>\n",
       "      <td>1</td>\n",
       "      <td>0</td>\n",
       "      <td>0</td>\n",
       "      <td>0</td>\n",
       "      <td>0</td>\n",
       "    </tr>\n",
       "  </tbody>\n",
       "</table>\n",
       "</div>"
      ],
      "text/plain": [
       "        airlines duration luggage weight price  Refund  departure hour  \\\n",
       "0  Guna Airlines       23             15  3350       0              13   \n",
       "1     Buddha Air       25             15  3650       0               7   \n",
       "2     Buddha Air       25             15  3650       0               7   \n",
       "3     Buddha Air       25             15  3650       0               8   \n",
       "4     Buddha Air       25             15  3650       0               9   \n",
       "\n",
       "   departure minute  arrival hour  arrival minute  Buddha Air  Guna Airlines  \\\n",
       "0                35            13              58           0              1   \n",
       "1                 0             7              25           1              0   \n",
       "2                55             8              20           1              0   \n",
       "3                40             9               5           1              0   \n",
       "4                45            10              10           1              0   \n",
       "\n",
       "   Saurya Airlines  Shree Airlines  Yeti Airlines  \n",
       "0                0               0              0  \n",
       "1                0               0              0  \n",
       "2                0               0              0  \n",
       "3                0               0              0  \n",
       "4                0               0              0  "
      ]
     },
     "execution_count": 57,
     "metadata": {},
     "output_type": "execute_result"
    }
   ],
   "source": [
    "df_final.head()"
   ]
  },
  {
   "cell_type": "code",
   "execution_count": 58,
   "id": "92ff5e7f",
   "metadata": {},
   "outputs": [],
   "source": [
    "df_final.drop(\"airlines\", axis = 1, inplace = True)"
   ]
  },
  {
   "cell_type": "code",
   "execution_count": 59,
   "id": "d2e37615",
   "metadata": {},
   "outputs": [
    {
     "data": {
      "text/html": [
       "<div>\n",
       "<style scoped>\n",
       "    .dataframe tbody tr th:only-of-type {\n",
       "        vertical-align: middle;\n",
       "    }\n",
       "\n",
       "    .dataframe tbody tr th {\n",
       "        vertical-align: top;\n",
       "    }\n",
       "\n",
       "    .dataframe thead th {\n",
       "        text-align: right;\n",
       "    }\n",
       "</style>\n",
       "<table border=\"1\" class=\"dataframe\">\n",
       "  <thead>\n",
       "    <tr style=\"text-align: right;\">\n",
       "      <th></th>\n",
       "      <th>duration</th>\n",
       "      <th>luggage weight</th>\n",
       "      <th>price</th>\n",
       "      <th>Refund</th>\n",
       "      <th>departure hour</th>\n",
       "      <th>departure minute</th>\n",
       "      <th>arrival hour</th>\n",
       "      <th>arrival minute</th>\n",
       "      <th>Buddha Air</th>\n",
       "      <th>Guna Airlines</th>\n",
       "      <th>Saurya Airlines</th>\n",
       "      <th>Shree Airlines</th>\n",
       "      <th>Yeti Airlines</th>\n",
       "    </tr>\n",
       "  </thead>\n",
       "  <tbody>\n",
       "    <tr>\n",
       "      <th>0</th>\n",
       "      <td>23</td>\n",
       "      <td>15</td>\n",
       "      <td>3350</td>\n",
       "      <td>0</td>\n",
       "      <td>13</td>\n",
       "      <td>35</td>\n",
       "      <td>13</td>\n",
       "      <td>58</td>\n",
       "      <td>0</td>\n",
       "      <td>1</td>\n",
       "      <td>0</td>\n",
       "      <td>0</td>\n",
       "      <td>0</td>\n",
       "    </tr>\n",
       "    <tr>\n",
       "      <th>1</th>\n",
       "      <td>25</td>\n",
       "      <td>15</td>\n",
       "      <td>3650</td>\n",
       "      <td>0</td>\n",
       "      <td>7</td>\n",
       "      <td>0</td>\n",
       "      <td>7</td>\n",
       "      <td>25</td>\n",
       "      <td>1</td>\n",
       "      <td>0</td>\n",
       "      <td>0</td>\n",
       "      <td>0</td>\n",
       "      <td>0</td>\n",
       "    </tr>\n",
       "    <tr>\n",
       "      <th>2</th>\n",
       "      <td>25</td>\n",
       "      <td>15</td>\n",
       "      <td>3650</td>\n",
       "      <td>0</td>\n",
       "      <td>7</td>\n",
       "      <td>55</td>\n",
       "      <td>8</td>\n",
       "      <td>20</td>\n",
       "      <td>1</td>\n",
       "      <td>0</td>\n",
       "      <td>0</td>\n",
       "      <td>0</td>\n",
       "      <td>0</td>\n",
       "    </tr>\n",
       "    <tr>\n",
       "      <th>3</th>\n",
       "      <td>25</td>\n",
       "      <td>15</td>\n",
       "      <td>3650</td>\n",
       "      <td>0</td>\n",
       "      <td>8</td>\n",
       "      <td>40</td>\n",
       "      <td>9</td>\n",
       "      <td>5</td>\n",
       "      <td>1</td>\n",
       "      <td>0</td>\n",
       "      <td>0</td>\n",
       "      <td>0</td>\n",
       "      <td>0</td>\n",
       "    </tr>\n",
       "    <tr>\n",
       "      <th>4</th>\n",
       "      <td>25</td>\n",
       "      <td>15</td>\n",
       "      <td>3650</td>\n",
       "      <td>0</td>\n",
       "      <td>9</td>\n",
       "      <td>45</td>\n",
       "      <td>10</td>\n",
       "      <td>10</td>\n",
       "      <td>1</td>\n",
       "      <td>0</td>\n",
       "      <td>0</td>\n",
       "      <td>0</td>\n",
       "      <td>0</td>\n",
       "    </tr>\n",
       "  </tbody>\n",
       "</table>\n",
       "</div>"
      ],
      "text/plain": [
       "  duration luggage weight price  Refund  departure hour  departure minute  \\\n",
       "0       23             15  3350       0              13                35   \n",
       "1       25             15  3650       0               7                 0   \n",
       "2       25             15  3650       0               7                55   \n",
       "3       25             15  3650       0               8                40   \n",
       "4       25             15  3650       0               9                45   \n",
       "\n",
       "   arrival hour  arrival minute  Buddha Air  Guna Airlines  Saurya Airlines  \\\n",
       "0            13              58           0              1                0   \n",
       "1             7              25           1              0                0   \n",
       "2             8              20           1              0                0   \n",
       "3             9               5           1              0                0   \n",
       "4            10              10           1              0                0   \n",
       "\n",
       "   Shree Airlines  Yeti Airlines  \n",
       "0               0              0  \n",
       "1               0              0  \n",
       "2               0              0  \n",
       "3               0              0  \n",
       "4               0              0  "
      ]
     },
     "execution_count": 59,
     "metadata": {},
     "output_type": "execute_result"
    }
   ],
   "source": [
    "df_final.head()"
   ]
  },
  {
   "cell_type": "code",
   "execution_count": 60,
   "id": "b7cb6afa",
   "metadata": {},
   "outputs": [
    {
     "data": {
      "text/plain": [
       "duration            0\n",
       "luggage weight      0\n",
       "price               0\n",
       "Refund              0\n",
       "departure hour      0\n",
       "departure minute    0\n",
       "arrival hour        0\n",
       "arrival minute      0\n",
       "Buddha Air          0\n",
       "Guna Airlines       0\n",
       "Saurya Airlines     0\n",
       "Shree Airlines      0\n",
       "Yeti Airlines       0\n",
       "dtype: int64"
      ]
     },
     "execution_count": 60,
     "metadata": {},
     "output_type": "execute_result"
    }
   ],
   "source": [
    "df_final.isnull().sum()"
   ]
  },
  {
   "cell_type": "code",
   "execution_count": 61,
   "id": "b4bb5bd0",
   "metadata": {},
   "outputs": [],
   "source": [
    "X = df_final.drop(\"price\", axis = 1)\n",
    "y = df_final[\"price\"]"
   ]
  },
  {
   "cell_type": "code",
   "execution_count": 97,
   "id": "cad9a754",
   "metadata": {},
   "outputs": [],
   "source": [
    "from sklearn.model_selection import train_test_split\n",
    "from sklearn.linear_model import LinearRegression\n",
    "from sklearn.svm import SVR\n",
    "from sklearn.metrics import mean_squared_error, r2_score, mean_absolute_error"
   ]
  },
  {
   "cell_type": "code",
   "execution_count": 98,
   "id": "21482d48",
   "metadata": {},
   "outputs": [
    {
     "name": "stdout",
     "output_type": "stream",
     "text": [
      "(90, 12) (23, 12)\n"
     ]
    }
   ],
   "source": [
    "X_train, X_test, y_train, y_test = train_test_split(X, y, test_size= 0.2, random_state=42)\n",
    "print(X_train.shape, X_test.shape)"
   ]
  },
  {
   "cell_type": "markdown",
   "id": "658595a2",
   "metadata": {},
   "source": [
    "# Linear Regression"
   ]
  },
  {
   "cell_type": "code",
   "execution_count": 100,
   "id": "e50ab835",
   "metadata": {},
   "outputs": [],
   "source": [
    "lr_model = LinearRegression()\n",
    "lr_model.fit(X_train, y_train)\n",
    "y_pred = lr_model.predict(X_test)"
   ]
  },
  {
   "cell_type": "code",
   "execution_count": 102,
   "id": "62d6aecd",
   "metadata": {},
   "outputs": [],
   "source": [
    "#Evaluating model\n",
    "def eval_mod(y_pred, y_test):\n",
    "    mse = mean_squared_error(y_pred, y_test)\n",
    "    r2score = r2_score(y_pred, y_test)\n",
    "    mae = mean_absolute_error(y_pred, y_test)\n",
    "    return mse, r2score, mae"
   ]
  },
  {
   "cell_type": "code",
   "execution_count": 103,
   "id": "d9227e16",
   "metadata": {},
   "outputs": [
    {
     "name": "stdout",
     "output_type": "stream",
     "text": [
      "mse: 315643.6516171776 R2score: 0.4800248695574123 mae: 461.07554982859693\n"
     ]
    }
   ],
   "source": [
    "mse, r2score, mae = eval_mod(y_pred, y_test)\n",
    "print(\"mse:\", mse, \"R2score:\", r2score, \"mae:\", mae)"
   ]
  }
 ],
 "metadata": {
  "kernelspec": {
   "display_name": "Python 3 (ipykernel)",
   "language": "python",
   "name": "python3"
  },
  "language_info": {
   "codemirror_mode": {
    "name": "ipython",
    "version": 3
   },
   "file_extension": ".py",
   "mimetype": "text/x-python",
   "name": "python",
   "nbconvert_exporter": "python",
   "pygments_lexer": "ipython3",
   "version": "3.11.1"
  }
 },
 "nbformat": 4,
 "nbformat_minor": 5
}
